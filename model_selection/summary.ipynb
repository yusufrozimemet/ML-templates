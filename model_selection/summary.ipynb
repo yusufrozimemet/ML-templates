{
  "nbformat": 4,
  "nbformat_minor": 0,
  "metadata": {
    "colab": {
      "provenance": [],
      "authorship_tag": "ABX9TyPuIREwU3bZglsxscZo/jFL",
      "include_colab_link": true
    },
    "kernelspec": {
      "name": "python3",
      "display_name": "Python 3"
    },
    "language_info": {
      "name": "python"
    }
  },
  "cells": [
    {
      "cell_type": "markdown",
      "metadata": {
        "id": "view-in-github",
        "colab_type": "text"
      },
      "source": [
        "<a href=\"https://colab.research.google.com/github/yoseforaz0990/ML-templates/blob/main/model_selection/summary.ipynb\" target=\"_parent\"><img src=\"https://colab.research.google.com/assets/colab-badge.svg\" alt=\"Open In Colab\"/></a>"
      ]
    },
    {
      "cell_type": "markdown",
      "source": [
        "| Technique                       | Description                                                                                                                        | Use Case                                                        | Pros                                                                                                                                                                     | Cons                                                                                                                                       |\n",
        "|---------------------------------|------------------------------------------------------------------------------------------------------------------------------------|------------------------------------------------------------------|--------------------------------------------------------------------------------------------------------------------------------------------------------------------------|-------------------------------------------------------------------------------------------------------------------------------------------|\n",
        "| XGBoost                         | XGBoost is a powerful and efficient machine learning algorithm based on gradient boosting. It combines weak learners (decision trees) | Classification and Regression Tasks                            | - High performance and accuracy - Speed and efficiency - Handles large datasets effectively - Regularization to prevent overfitting                                   | - More hyperparameters to tune compared to simpler algorithms - Can be computationally expensive for large datasets                          |\n",
        "| K-Fold Cross-Validation         | K-Fold Cross-Validation is a model evaluation technique that divides the data into 'k' subsets and iteratively trains and evaluates models on different folds.            | Model Evaluation and Selection                                 | - Provides more reliable performance estimates - Reduces overfitting - Maximizes data usage                                                                              | - Computationally more expensive as it trains the model 'k' times - Can be slow for large datasets with a large value of 'k'                |\n",
        "| Grid Search                     | Grid Search is a hyperparameter tuning technique that systematically tries out different combinations of hyperparameter values.       | Hyperparameter Optimization                                    | - Automates hyperparameter tuning - Prevents manual trial and error - Works well with K-Fold Cross-Validation to find optimal hyperparameters | - Can be computationally expensive when searching over a large hyperparameter space - Exhaustive search may miss certain regions of interest |\n"
      ],
      "metadata": {
        "id": "5fBsP7-bjOFJ"
      }
    }
  ]
}