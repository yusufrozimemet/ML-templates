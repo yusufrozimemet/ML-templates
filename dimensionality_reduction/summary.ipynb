{
  "nbformat": 4,
  "nbformat_minor": 0,
  "metadata": {
    "colab": {
      "provenance": [],
      "authorship_tag": "ABX9TyN0dU+1VgCpgTFsBE8L45C6",
      "include_colab_link": true
    },
    "kernelspec": {
      "name": "python3",
      "display_name": "Python 3"
    },
    "language_info": {
      "name": "python"
    }
  },
  "cells": [
    {
      "cell_type": "markdown",
      "metadata": {
        "id": "view-in-github",
        "colab_type": "text"
      },
      "source": [
        "<a href=\"https://colab.research.google.com/github/yoseforaz0990/ML-templates/blob/main/dimensionality_reduction/summary.ipynb\" target=\"_parent\"><img src=\"https://colab.research.google.com/assets/colab-badge.svg\" alt=\"Open In Colab\"/></a>"
      ]
    },
    {
      "cell_type": "markdown",
      "source": [
        "| Technique                        | Description                                                                                                                                         | Use Case                                                         | Pros                                                                                                      | Cons                                                                                                                  |\n",
        "|----------------------------------|-----------------------------------------------------------------------------------------------------------------------------------------------------|-------------------------------------------------------------------|-----------------------------------------------------------------------------------------------------------|----------------------------------------------------------------------------------------------------------------------|\n",
        "| Kernel PCA                       | Kernel PCA is a non-linear dimensionality reduction technique that uses the \"kernel trick\" to transform the data into a higher-dimensional space.  | Dimensionality Reduction, Non-linear Data                        | - Handles non-linear relationships in data - Effective in transforming data with complex patterns        | - Computationally more expensive than PCA for large datasets - Difficult to interpret the transformed features     |\n",
        "| Linear Discriminant Analysis (LDA) | LDA is a supervised dimensionality reduction technique that aims to maximize the class separability while reducing the dimensionality of the data.       | Dimensionality Reduction, Classification                          | - Effective for classification tasks - Preserves class information in the reduced space               | - Assumes normality and equal covariance matrices of classes - Not suitable for unsupervised learning tasks         |\n",
        "| Principal Component Analysis (PCA) | PCA is an unsupervised dimensionality reduction technique that transforms the data to a new coordinate system such that the principal components are uncorrelated. | Dimensionality Reduction, Data Visualization, Noise Reduction   | - Fast and computationally efficient - Simple interpretation of principal components                | - Does not consider class labels - PCA components may not be informative for classification tasks                      |\n"
      ],
      "metadata": {
        "id": "5fBsP7-bjOFJ"
      }
    }
  ]
}