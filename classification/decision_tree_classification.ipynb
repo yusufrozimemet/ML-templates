{
  "nbformat": 4,
  "nbformat_minor": 0,
  "metadata": {
    "colab": {
      "provenance": [],
      "authorship_tag": "ABX9TyOpNlC8FeAWgKED/muSZqNm",
      "include_colab_link": true
    },
    "kernelspec": {
      "name": "python3",
      "display_name": "Python 3"
    },
    "language_info": {
      "name": "python"
    }
  },
  "cells": [
    {
      "cell_type": "markdown",
      "metadata": {
        "id": "view-in-github",
        "colab_type": "text"
      },
      "source": [
        "<a href=\"https://colab.research.google.com/github/yoseforaz0990/ML-templates/blob/main/classification/decision_tree_classification.ipynb\" target=\"_parent\"><img src=\"https://colab.research.google.com/assets/colab-badge.svg\" alt=\"Open In Colab\"/></a>"
      ]
    },
    {
      "cell_type": "markdown",
      "source": [
        "| Step                                                    | Description                                                                                                    |\n",
        "|---------------------------------------------------------|---------------------------------------------------------------------------------------------------------------|\n",
        "| **Training the Decision Tree Classification model on the Training set** | Build a Decision Tree classifier using the training set (`X_train` and `y_train`).                   |\n",
        "|                                                         | The `DecisionTreeClassifier` class from scikit-learn is used to create the classifier.                       |\n",
        "|                                                         | Set `criterion='entropy'` to use the information gain criterion (entropy) for splitting the tree nodes.        |\n",
        "|                                                         | Set `random_state=0` for reproducibility of results.                                                         |\n",
        "|                                                         | Train the Decision Tree classifier on the training data to learn the hierarchical decision rules.          |\n",
        "| **Predicting the Test set results**                     | Use the trained classifier to predict outcomes for the test set (`X_test`).                                    |\n",
        "|                                                         | The predicted outcomes for the test set are stored in `y_pred`.                                                 |\n",
        "|                                                         | The `predict()` method from the `DecisionTreeClassifier` class is used to make predictions.                     |\n",
        "|                                                         | Concatenate the predicted outcomes `y_pred` and the actual outcomes `y_test` to create a side-by-side comparison. |\n",
        "\n"
      ],
      "metadata": {
        "id": "AsrJUJFkt-_I"
      }
    },
    {
      "cell_type": "code",
      "source": [
        "# Importing the libraries\n",
        "from sklearn.tree import DecisionTreeClassifier\n",
        "import numpy as np\n",
        "\n",
        "# Training the Decision Tree Classification model on the Training set\n",
        "classifier = DecisionTreeClassifier(criterion='entropy', random_state=0)\n",
        "classifier.fit(X_train, y_train)\n",
        "\n",
        "# Predicting the Test set results\n",
        "y_pred = classifier.predict(X_test)\n",
        "print(np.concatenate((y_pred.reshape(len(y_pred), 1), y_test.reshape(len(y_test), 1)), 1))\n",
        "\n",
        "\n",
        "\n"
      ],
      "metadata": {
        "id": "3ZntZ76rE0PW"
      },
      "execution_count": null,
      "outputs": []
    }
  ]
}