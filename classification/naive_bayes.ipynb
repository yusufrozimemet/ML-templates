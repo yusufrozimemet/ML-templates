{
  "nbformat": 4,
  "nbformat_minor": 0,
  "metadata": {
    "colab": {
      "provenance": [],
      "authorship_tag": "ABX9TyNE1Mm9P2UuwqbYcwJqxGW0",
      "include_colab_link": true
    },
    "kernelspec": {
      "name": "python3",
      "display_name": "Python 3"
    },
    "language_info": {
      "name": "python"
    }
  },
  "cells": [
    {
      "cell_type": "markdown",
      "metadata": {
        "id": "view-in-github",
        "colab_type": "text"
      },
      "source": [
        "<a href=\"https://colab.research.google.com/github/yoseforaz0990/ML-templates/blob/main/classification/naive_bayes.ipynb\" target=\"_parent\"><img src=\"https://colab.research.google.com/assets/colab-badge.svg\" alt=\"Open In Colab\"/></a>"
      ]
    },
    {
      "cell_type": "markdown",
      "source": [
        "| Step                                      | Description                                                                                           |\n",
        "|-------------------------------------------|-------------------------------------------------------------------------------------------------------|\n",
        "| **Training the Naive Bayes model on the Training set** | Build a Gaussian Naive Bayes classifier using the training set (`X_train` and `y_train`).     |\n",
        "|                                           | The `GaussianNB` class from scikit-learn is used to create the classifier.                             |\n",
        "|                                           | Train the Naive Bayes classifier on the training data to learn the probability distributions of the features given each class. |\n",
        "| **Predicting the Test set results**       | Use the trained classifier to predict outcomes for the test set (`X_test`).                          |\n",
        "|                                           | The predicted outcomes for the test set are stored in `y_pred`.                                       |\n",
        "|                                           | The `predict()` method from the `GaussianNB` class is used to make predictions.                       |\n",
        "|                                           | Concatenate the predicted outcomes `y_pred` and the actual outcomes `y_test` to create a side-by-side comparison. |\n"
      ],
      "metadata": {
        "id": "AsrJUJFkt-_I"
      }
    },
    {
      "cell_type": "code",
      "source": [
        "# Importing the libraries\n",
        "from sklearn.naive_bayes import GaussianNB\n",
        "import numpy as np\n",
        "\n",
        "# Training the Naive Bayes model on the Training set\n",
        "classifier = GaussianNB()\n",
        "classifier.fit(X_train, y_train)\n",
        "\n",
        "# Predicting the Test set results\n",
        "y_pred = classifier.predict(X_test)\n",
        "print(np.concatenate((y_pred.reshape(len(y_pred), 1), y_test.reshape(len(y_test), 1)), 1))\n",
        "\n",
        "\n"
      ],
      "metadata": {
        "id": "3ZntZ76rE0PW"
      },
      "execution_count": null,
      "outputs": []
    }
  ]
}