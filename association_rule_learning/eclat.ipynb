{
  "nbformat": 4,
  "nbformat_minor": 0,
  "metadata": {
    "colab": {
      "provenance": [],
      "authorship_tag": "ABX9TyPi/O1Gt2eQC/uL8kNkHwXT",
      "include_colab_link": true
    },
    "kernelspec": {
      "name": "python3",
      "display_name": "Python 3"
    },
    "language_info": {
      "name": "python"
    }
  },
  "cells": [
    {
      "cell_type": "markdown",
      "metadata": {
        "id": "view-in-github",
        "colab_type": "text"
      },
      "source": [
        "<a href=\"https://colab.research.google.com/github/yoseforaz0990/ML-templates/blob/main/association_rule_learning/eclat.ipynb\" target=\"_parent\"><img src=\"https://colab.research.google.com/assets/colab-badge.svg\" alt=\"Open In Colab\"/></a>"
      ]
    },
    {
      "cell_type": "markdown",
      "source": [
        "| Step                                     | Description                                                                                                                                                                                |\n",
        "|------------------------------------------|--------------------------------------------------------------------------------------------------------------------------------------------------------------------------------------------|\n",
        "| Install mlxtend library                  | Install the `mlxtend` library, which provides an efficient implementation of the Eclat algorithm.                                                                                         |\n",
        "| Import the necessary libraries           | Import the required libraries for data manipulation and the Eclat algorithm.                                                                                                             |\n",
        "| Data Preprocessing                       | Read the market basket data from the CSV file and preprocess it to create a list of transactions.                                                                                        |\n",
        "| Converting the transaction list           | Convert the transaction list into a one-hot encoded DataFrame using the `TransactionEncoder` from `mlxtend.preprocessing`.                                                               |\n",
        "| Training the Eclat model                 | Apply the Eclat algorithm to the one-hot encoded DataFrame to find frequent itemsets using the `eclat` function from `mlxtend.frequent_patterns`.                                          |\n",
        "| Displaying the first results             | Print the first few frequent itemsets along with their support values.                                                                                                                   |\n",
        "| Putting the results into a Pandas DataFrame | The results obtained from the Eclat algorithm are already in a well-organized Pandas DataFrame format. No additional steps are required for this.                                      |\n",
        "| Displaying the results sorted by descending supports | Sort the frequent itemsets by descending support values to see the most significant itemsets first. The results are displayed in a Pandas DataFrame format.                 |\n"
      ],
      "metadata": {
        "id": "5fBsP7-bjOFJ"
      }
    },
    {
      "cell_type": "code",
      "source": [
        "!pip install mlxtend\n",
        "\n",
        "# Importing the libraries\n",
        "import pandas as pd\n",
        "from mlxtend.preprocessing import TransactionEncoder\n",
        "from mlxtend.frequent_patterns import eclat\n",
        "\n",
        "# Data Preprocessing\n",
        "dataset = pd.read_csv('Market_Basket_Optimisation.csv', header=None)\n",
        "transactions = []\n",
        "for i in range(0, 7501):\n",
        "    transactions.append([str(dataset.values[i, j]) for j in range(0, 20)])\n",
        "\n",
        "# Converting the transaction list into a one-hot encoded DataFrame\n",
        "te = TransactionEncoder()\n",
        "te_ary = te.fit(transactions).transform(transactions)\n",
        "df = pd.DataFrame(te_ary, columns=te.columns_)\n",
        "\n",
        "# Training the Eclat model on the dataset\n",
        "frequent_itemsets = eclat(df, min_support=0.003, use_colnames=True)\n",
        "\n",
        "# Displaying the first results\n",
        "print(frequent_itemsets.head())\n",
        "\n",
        "# Putting the results well organized into a Pandas DataFrame\n",
        "# The results are already in a Pandas DataFrame format\n",
        "\n",
        "# Displaying the results sorted by descending supports\n",
        "frequent_itemsets_sorted = frequent_itemsets.sort_values(by='support', ascending=False)\n",
        "print(frequent_itemsets_sorted)\n"
      ],
      "metadata": {
        "id": "uH2G2ys4ODFH"
      },
      "execution_count": null,
      "outputs": []
    }
  ]
}