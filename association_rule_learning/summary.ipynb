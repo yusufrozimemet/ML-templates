{
  "nbformat": 4,
  "nbformat_minor": 0,
  "metadata": {
    "colab": {
      "provenance": [],
      "authorship_tag": "ABX9TyN3hscdfGSaYBFQtxV835Cx",
      "include_colab_link": true
    },
    "kernelspec": {
      "name": "python3",
      "display_name": "Python 3"
    },
    "language_info": {
      "name": "python"
    }
  },
  "cells": [
    {
      "cell_type": "markdown",
      "metadata": {
        "id": "view-in-github",
        "colab_type": "text"
      },
      "source": [
        "<a href=\"https://colab.research.google.com/github/yoseforaz0990/ML-templates/blob/main/association_rule_learning/summary.ipynb\" target=\"_parent\"><img src=\"https://colab.research.google.com/assets/colab-badge.svg\" alt=\"Open In Colab\"/></a>"
      ]
    },
    {
      "cell_type": "markdown",
      "source": [
        "| Algorithm | Description                                                                                             | Use Case                                                               | Pros                                                                                                                                                                               | Cons                                                                                                                |\n",
        "|-----------|---------------------------------------------------------------------------------------------------------|------------------------------------------------------------------------|-----------------------------------------------------------------------------------------------------------------------------------------------------------------------------------|---------------------------------------------------------------------------------------------------------------------|\n",
        "| Apriori   | Apriori is an association rule mining algorithm based on support and confidence metrics.               | Market basket analysis, recommender systems, customer behavior analysis | - Simple and widely used algorithm.<br>- Can handle large datasets efficiently using optimized data structures.<br>- Provides insights into frequent itemsets and association rules. | - Requires multiple passes over the data, which can be computationally expensive for large datasets.<br>- Generates a large number of candidate itemsets, leading to higher memory usage. |\n",
        "| Eclat     | Eclat (Equivalence Class Transformation) is an efficient algorithm for frequent itemset mining.       | Market basket analysis, web log analysis                               | - Faster than Apriori, especially for sparse datasets.<br>- Memory-efficient due to its vertical data representation.<br>- Can handle high-dimensional and sparse datasets effectively. | - Limited to finding itemsets of size 2 (i.e., only generates pairs of items).<br>- May miss some infrequent itemsets that are not subsets of frequent itemsets.                       |\n"
      ],
      "metadata": {
        "id": "5fBsP7-bjOFJ"
      }
    }
  ]
}