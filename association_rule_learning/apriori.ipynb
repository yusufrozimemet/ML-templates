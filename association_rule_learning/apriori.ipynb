{
  "nbformat": 4,
  "nbformat_minor": 0,
  "metadata": {
    "colab": {
      "provenance": [],
      "authorship_tag": "ABX9TyNIHJmurZsvQRCAT2XO5g0h",
      "include_colab_link": true
    },
    "kernelspec": {
      "name": "python3",
      "display_name": "Python 3"
    },
    "language_info": {
      "name": "python"
    }
  },
  "cells": [
    {
      "cell_type": "markdown",
      "metadata": {
        "id": "view-in-github",
        "colab_type": "text"
      },
      "source": [
        "<a href=\"https://colab.research.google.com/github/yoseforaz0990/ML-templates/blob/main/association_rule_learning/apriori.ipynb\" target=\"_parent\"><img src=\"https://colab.research.google.com/assets/colab-badge.svg\" alt=\"Open In Colab\"/></a>"
      ]
    },
    {
      "cell_type": "markdown",
      "source": [
        "| Step                                              | Description                                                                                                                                                                                                                                                                                                                                                                                                                                                                                                                                                                                        |\n",
        "|---------------------------------------------------|----------------------------------------------------------------------------------------------------------------------------------------------------------------------------------------------------------------------------------------------------------------------------------------------------------------------------------------------------------------------------------------------------------------------------------------------------------------------------------------------------------------------------------------------------------------------------------------------------|\n",
        "| Install apyori library                           | The apyori library is required to perform the Apriori algorithm, which is used for association rule mining. If you don't have it installed, you can install it using !pip install apyori. This step is not shown in the code but needs to be executed before running the code.                                                                                                                                                                                                                                                                                                                   |\n",
        "| Importing the libraries                         | Import the required libraries for data preprocessing and the Apriori algorithm. The code uses pandas for data manipulation and apyori for Apriori implementation.                                                                                                                                                                                                                                                                                                                                                                                                                                |\n",
        "| Importing the dataset                           | Load the dataset 'Market_Basket_Optimisation.csv', which contains market basket data. Each row represents a transaction (a customer's purchase history), and each column represents an item that was purchased.                                                                                                                                                                                                                                                                                                                                                                                     |\n",
        "| Data Preprocessing                              | Preprocess the dataset to prepare it for the Apriori algorithm. The code creates a list called transactions, where each element is a list of items purchased in a transaction. The transactions list will be used as input to the Apriori algorithm.                                                                                                                                                                                                                                                                                                                                               |\n",
        "| Training the Apriori model on the dataset       | Apply the Apriori algorithm to the dataset to find frequent itemsets and association rules. The apyori.apriori function is used for this purpose. The parameters min_support, min_confidence, min_lift, min_length, and max_length control the minimum support, minimum confidence, minimum lift, minimum and maximum number of items in a rule, respectively. The algorithm finds all the itemsets that satisfy the specified minimum support and generates association rules based on the minimum confidence and lift thresholds. |\n",
        "| Displaying the first results                    | The variable results holds the output of the Apriori algorithm, which includes frequent itemsets and association rules. The code prints the first results obtained directly from the output of the apriori function.                                                                                                                                                                                                                                                                                                                           |\n",
        "| Putting the results into a Pandas DataFrame     | The function inspect is defined to organize the results obtained from the Apriori algorithm into a Pandas DataFrame. The DataFrame will have columns for the left-hand side (antecedent), right-hand side (consequent), support, confidence, and lift values of each association rule. The inspect function extracts this information from the results variable.                                                                                                                                                                                                                           |\n",
        "| Displaying the results non-sorted               | The DataFrame resultsinDataFrame is created using the inspect function. This DataFrame contains the association rules and their corresponding support, confidence, and lift values. The code displays the DataFrame, showing the results in a tabular format.                                                                                                                                                                                                                                                                       |\n",
        "| Displaying the results sorted by descending lifts | Finally, the code sorts the association rules by descending lift values and displays the top 10 rules with the highest lifts. Sorting the rules by lift allows us to focus on the most significant relationships between items. Higher lift values indicate stronger relationships, meaning that the items in the rule are more likely to be purchased together. The code uses the nlargest function on the DataFrame to achieve this sorting.                                                                                                                                                         |\n"
      ],
      "metadata": {
        "id": "5fBsP7-bjOFJ"
      }
    },
    {
      "cell_type": "code",
      "source": [
        "# Install apyori if not already installed\n",
        "!pip install apyori\n",
        "\n",
        "# Importing the libraries\n",
        "import pandas as pd\n",
        "from apyori import apriori\n",
        "\n",
        "# Data Preprocessing\n",
        "dataset = pd.read_csv('Market_Basket_Optimisation.csv', header=None)\n",
        "transactions = []\n",
        "for i in range(0, 7501):\n",
        "    transactions.append([str(dataset.values[i, j]) for j in range(0, 20)])\n",
        "\n",
        "# Training the Apriori model on the dataset\n",
        "rules = apriori(transactions=transactions, min_support=0.003, min_confidence=0.2, min_lift=3, min_length=2, max_length=2)\n",
        "\n",
        "# Displaying the first results coming directly from the output of the apriori function\n",
        "results = list(rules)\n",
        "\n",
        "# Putting the results well organized into a Pandas DataFrame\n",
        "def inspect(results):\n",
        "    lhs = [tuple(result[2][0][0])[0] for result in results]\n",
        "    rhs = [tuple(result[2][0][1])[0] for result in results]\n",
        "    supports = [result[1] for result in results]\n",
        "    confidences = [result[2][0][2] for result in results]\n",
        "    lifts = [result[2][0][3] for result in results]\n",
        "    return list(zip(lhs, rhs, supports, confidences, lifts))\n",
        "\n",
        "resultsinDataFrame = pd.DataFrame(inspect(results), columns=['Left Hand Side', 'Right Hand Side', 'Support', 'Confidence', 'Lift'])\n",
        "\n",
        "# Displaying the results non-sorted\n",
        "resultsinDataFrame\n",
        "\n",
        "# Displaying the results sorted by descending lifts\n",
        "resultsinDataFrame.nlargest(n=10, columns='Lift')\n"
      ],
      "metadata": {
        "id": "uH2G2ys4ODFH"
      },
      "execution_count": null,
      "outputs": []
    }
  ]
}