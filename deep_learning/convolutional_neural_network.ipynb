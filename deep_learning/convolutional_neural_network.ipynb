{
  "nbformat": 4,
  "nbformat_minor": 0,
  "metadata": {
    "colab": {
      "provenance": [],
      "authorship_tag": "ABX9TyMAU/qpoTgTb3+mRz+nH6+9",
      "include_colab_link": true
    },
    "kernelspec": {
      "name": "python3",
      "display_name": "Python 3"
    },
    "language_info": {
      "name": "python"
    }
  },
  "cells": [
    {
      "cell_type": "markdown",
      "metadata": {
        "id": "view-in-github",
        "colab_type": "text"
      },
      "source": [
        "<a href=\"https://colab.research.google.com/github/yoseforaz0990/ML-templates/blob/main/deep_learning/convolutional_neural_network.ipynb\" target=\"_parent\"><img src=\"https://colab.research.google.com/assets/colab-badge.svg\" alt=\"Open In Colab\"/></a>"
      ]
    },
    {
      "cell_type": "markdown",
      "source": [
        "| Step                                           | Description                                                                                                                                         |\n",
        "|------------------------------------------------|-----------------------------------------------------------------------------------------------------------------------------------------------------|\n",
        "| Importing the libraries                       | Import the required libraries, including TensorFlow, Keras, and NumPy. TensorFlow is a deep learning framework, Keras is a high-level API for building neural networks, and NumPy is used for numerical computations. |\n",
        "| Preprocessing the Training set                 | Use the `ImageDataGenerator` class from Keras to perform data augmentation on the training set. Data augmentation techniques like rescaling, shearing, zooming, and horizontal flipping are applied to create variations of the training images, enhancing the model's generalization capability. |\n",
        "| Preprocessing the Test set                     | Apply rescaling to the test set using the `ImageDataGenerator` to ensure that the test images have the same scale as the training images. Data augmentation is not applied to the test set since we do not want to modify the original test images. |\n",
        "| Initializing the CNN                           | Create an instance of the `Sequential` class from Keras to initialize an empty CNN model. The `Sequential` class allows us to build a neural network layer by layer in a linear stack. |\n",
        "| Step 1 - Convolution                           | Add a 2D convolutional layer to the model. The convolutional layer applies a set of filters (also known as kernels) to the input image to detect patterns and features. Activation function (ReLU) introduces non-linearity to the model. |\n",
        "| Step 2 - Pooling                              | Add a pooling layer (MaxPooling) to the model. The pooling layer reduces the spatial dimensions of the feature maps, reducing the computational complexity while retaining important information. |\n",
        "| Adding a second convolutional layer            | Add another 2D convolutional layer followed by a pooling layer. Multiple convolutional layers help the model learn more complex and abstract features from the input images. |\n",
        "| Step 3 - Flattening                           | Flatten the 2D feature maps into a 1D vector. This step prepares the data to be fed into the fully connected layers of the neural network. |\n",
        "| Step 4 - Full Connection                      | Add a fully connected layer to the model. The fully connected layer consists of a set of neurons, and each neuron is connected to all the neurons in the previous layer. Activation function (ReLU) is used to introduce non-linearity to the model. |\n",
        "| Step 5 - Output Layer                         | Add the output layer to the model. The output layer consists of one neuron with a sigmoid activation function. It is used for binary classification problems, and it outputs the probability of the input image belonging to one of the classes. |\n",
        "| Compiling the CNN                            | Compile the model by specifying the optimizer, loss function, and evaluation metrics. The optimizer updates the model's weights during training to minimize the chosen loss function. The loss function measures the difference between predicted and true labels. The evaluation metric (accuracy) provides performance feedback during training. |\n",
        "| Training the CNN on the Training set and evaluating it on the Test set | Train the CNN model on the training set using the `fit` method. During training, the model adjusts its weights to minimize the chosen loss function and improve performance on the training data. The model's performance is evaluated on the test set using the validation data argument. |\n",
        "| Making a single prediction                    | Load an example image and preprocess it. Then, make a single prediction using the trained model. If the predicted output is greater than 0.5, the image is classified as a 'dog,' otherwise as a 'cat.' The final prediction is printed. |\n"
      ],
      "metadata": {
        "id": "5fBsP7-bjOFJ"
      }
    },
    {
      "cell_type": "code",
      "source": [
        "# Importing the libraries\n",
        "import tensorflow as tf\n",
        "from keras.preprocessing.image import ImageDataGenerator\n",
        "import numpy as np\n",
        "\n",
        "# Preprocessing the Training set\n",
        "train_datagen = ImageDataGenerator(\n",
        "    rescale=1./255,\n",
        "    shear_range=0.2,\n",
        "    zoom_range=0.2,\n",
        "    horizontal_flip=True\n",
        ")\n",
        "training_set = train_datagen.flow_from_directory(\n",
        "    'dataset/training_set',\n",
        "    target_size=(64, 64),\n",
        "    batch_size=32,\n",
        "    class_mode='binary'\n",
        ")\n",
        "\n",
        "# Preprocessing the Test set\n",
        "test_datagen = ImageDataGenerator(rescale=1./255)\n",
        "test_set = test_datagen.flow_from_directory(\n",
        "    'dataset/test_set',\n",
        "    target_size=(64, 64),\n",
        "    batch_size=32,\n",
        "    class_mode='binary'\n",
        ")\n",
        "\n",
        "# Initializing the CNN\n",
        "cnn = tf.keras.models.Sequential()\n",
        "\n",
        "# Step 1 - Convolution\n",
        "cnn.add(tf.keras.layers.Conv2D(filters=32, kernel_size=3, activation='relu', input_shape=[64, 64, 3]))\n",
        "\n",
        "# Step 2 - Pooling\n",
        "cnn.add(tf.keras.layers.MaxPool2D(pool_size=2, strides=2))\n",
        "\n",
        "# Adding a second convolutional layer\n",
        "cnn.add(tf.keras.layers.Conv2D(filters=32, kernel_size=3, activation='relu'))\n",
        "cnn.add(tf.keras.layers.MaxPool2D(pool_size=2, strides=2))\n",
        "\n",
        "# Step 3 - Flattening\n",
        "cnn.add(tf.keras.layers.Flatten())\n",
        "\n",
        "# Step 4 - Full Connection\n",
        "cnn.add(tf.keras.layers.Dense(units=128, activation='relu'))\n",
        "\n",
        "# Step 5 - Output Layer\n",
        "cnn.add(tf.keras.layers.Dense(units=1, activation='sigmoid'))\n",
        "\n",
        "# Compiling the CNN\n",
        "cnn.compile(optimizer='adam', loss='binary_crossentropy', metrics=['accuracy'])\n",
        "\n",
        "# Training the CNN on the Training set and evaluating it on the Test set\n",
        "cnn.fit(x=training_set, validation_data=test_set, epochs=25)\n",
        "\n",
        "# Making a single prediction\n",
        "test_image = image.load_img('dataset/single_prediction/cat_or_dog_1.jpg', target_size=(64, 64))\n",
        "test_image = image.img_to_array(test_image)\n",
        "test_image = np.expand_dims(test_image, axis=0)\n",
        "result = cnn.predict(test_image)\n",
        "training_set.class_indices\n",
        "if result[0][0] == 1:\n",
        "    prediction = 'dog'\n",
        "else:\n",
        "    prediction = 'cat'\n",
        "print(prediction)\n"
      ],
      "metadata": {
        "id": "4llK0EaMherw"
      },
      "execution_count": null,
      "outputs": []
    }
  ]
}