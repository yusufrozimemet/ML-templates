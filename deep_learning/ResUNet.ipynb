{
  "nbformat": 4,
  "nbformat_minor": 0,
  "metadata": {
    "colab": {
      "provenance": [],
      "authorship_tag": "ABX9TyNXbIpdD0jwKv7vU6XDwc99",
      "include_colab_link": true
    },
    "kernelspec": {
      "name": "python3",
      "display_name": "Python 3"
    },
    "language_info": {
      "name": "python"
    }
  },
  "cells": [
    {
      "cell_type": "markdown",
      "metadata": {
        "id": "view-in-github",
        "colab_type": "text"
      },
      "source": [
        "<a href=\"https://colab.research.google.com/github/yoseforaz0990/ML-templates/blob/main/deep_learning/ResUNet.ipynb\" target=\"_parent\"><img src=\"https://colab.research.google.com/assets/colab-badge.svg\" alt=\"Open In Colab\"/></a>"
      ]
    },
    {
      "cell_type": "markdown",
      "source": [
        "| Step Name                                | Description                                                                                                             |\n",
        "|------------------------------------------|-------------------------------------------------------------------------------------------------------------------------|\n",
        "| Importing necessary libraries           | Importing the required libraries for building the ResUNet model.                                                        |\n",
        "| Defining the Residual Block             | Defining a single residual block with skip connection.                                                                  |\n",
        "| Creating the ResUNet model              | Building the ResUNet model using the defined residual blocks, encoder, bridge, and decoder.                            |\n",
        "| Compiling the ResUNet model             | Compiling the ResUNet model with binary cross-entropy loss and Adam optimizer.                                          |\n",
        "| Printing the ResUNet model summary      | Displaying the summary of the ResUNet model architecture.                                                               |\n"
      ],
      "metadata": {
        "id": "5fBsP7-bjOFJ"
      }
    },
    {
      "cell_type": "code",
      "source": [
        "# Step 1: Importing necessary libraries\n",
        "# Description: Importing the required libraries for building the ResUNet model.\n",
        "\n",
        "import tensorflow as tf\n",
        "from tensorflow.keras.layers import Input, Conv2D, BatchNormalization, Activation, MaxPooling2D, UpSampling2D, concatenate, Add\n",
        "from tensorflow.keras.models import Model\n",
        "\n",
        "# Step 2: Defining the Residual Block\n",
        "# Description: Defining a single residual block with skip connection.\n",
        "\n",
        "def residual_block(x, filters, kernel_size=(3, 3), activation=\"relu\"):\n",
        "    identity = x\n",
        "\n",
        "    x = Conv2D(filters, kernel_size, padding=\"same\")(x)\n",
        "    x = BatchNormalization()(x)\n",
        "    x = Activation(activation)(x)\n",
        "\n",
        "    x = Conv2D(filters, kernel_size, padding=\"same\")(x)\n",
        "    x = BatchNormalization()(x)\n",
        "\n",
        "    if x.shape[-1] != filters:\n",
        "        identity = Conv2D(filters, (1, 1), padding=\"same\")(identity)\n",
        "        identity = BatchNormalization()(identity)\n",
        "\n",
        "    x = Add()([x, identity])\n",
        "    x = Activation(activation)(x)\n",
        "    return x\n",
        "\n",
        "# Step 3: Creating the ResUNet model\n",
        "# Description: Building the ResUNet model using the defined residual blocks.\n",
        "\n",
        "def create_resunet(input_shape=(256, 256, 3), num_classes=1, num_filters=64):\n",
        "    inputs = Input(shape=input_shape)\n",
        "\n",
        "    # Encoder\n",
        "    x = Conv2D(num_filters, (3, 3), padding=\"same\")(inputs)\n",
        "    x = BatchNormalization()(x)\n",
        "    x = Activation(\"relu\")(x)\n",
        "    x = residual_block(x, num_filters)\n",
        "    x = MaxPooling2D((2, 2))(x)\n",
        "\n",
        "    num_filters *= 2\n",
        "    x = residual_block(x, num_filters)\n",
        "    x = MaxPooling2D((2, 2))(x)\n",
        "\n",
        "    num_filters *= 2\n",
        "    x = residual_block(x, num_filters)\n",
        "    x = MaxPooling2D((2, 2))(x)\n",
        "\n",
        "    # Bridge\n",
        "    x = residual_block(x, num_filters)\n",
        "\n",
        "    # Decoder\n",
        "    num_filters //= 2\n",
        "    x = UpSampling2D((2, 2))(x)\n",
        "    x = residual_block(x, num_filters)\n",
        "\n",
        "    num_filters //= 2\n",
        "    x = UpSampling2D((2, 2))(x)\n",
        "    x = residual_block(x, num_filters)\n",
        "\n",
        "    num_filters //= 2\n",
        "    x = UpSampling2D((2, 2))(x)\n",
        "    x = residual_block(x, num_filters)\n",
        "\n",
        "    outputs = Conv2D(num_classes, (1, 1), activation=\"sigmoid\")(x)\n",
        "\n",
        "    model = Model(inputs=inputs, outputs=outputs)\n",
        "    return model\n",
        "\n",
        "# Step 4: Compiling the ResUNet model\n",
        "# Description: Compiling the ResUNet model with binary cross-entropy loss and Adam optimizer.\n",
        "\n",
        "model = create_resunet()\n",
        "model.compile(loss=\"binary_crossentropy\", optimizer=\"adam\", metrics=[\"accuracy\"])\n",
        "\n",
        "# Step 5: Printing the ResUNet model summary\n",
        "# Description: Displaying the summary of the ResUNet model architecture.\n",
        "\n",
        "model.summary()\n"
      ],
      "metadata": {
        "id": "4llK0EaMherw"
      },
      "execution_count": null,
      "outputs": []
    }
  ]
}