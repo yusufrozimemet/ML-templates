{
  "nbformat": 4,
  "nbformat_minor": 0,
  "metadata": {
    "colab": {
      "provenance": [],
      "authorship_tag": "ABX9TyMTTJLHZyeJylWZBbWJZZH7",
      "include_colab_link": true
    },
    "kernelspec": {
      "name": "python3",
      "display_name": "Python 3"
    },
    "language_info": {
      "name": "python"
    }
  },
  "cells": [
    {
      "cell_type": "markdown",
      "metadata": {
        "id": "view-in-github",
        "colab_type": "text"
      },
      "source": [
        "<a href=\"https://colab.research.google.com/github/yoseforaz0990/ML-templates/blob/main/deep_learning/facebook_prophet.ipynb\" target=\"_parent\"><img src=\"https://colab.research.google.com/assets/colab-badge.svg\" alt=\"Open In Colab\"/></a>"
      ]
    },
    {
      "cell_type": "markdown",
      "source": [
        "| Step Name                                | Description                                                                                                             |\n",
        "|------------------------------------------|-------------------------------------------------------------------------------------------------------------------------|\n",
        "| Importing necessary libraries           | Importing the required libraries for time series forecasting using Prophet.                                             |\n",
        "| Loading the data                        | Loading the time series data into a pandas DataFrame.                                                                   |\n",
        "| Preparing the data                      | Preparing the data in the required format for Prophet.                                                                 |\n",
        "| Creating and fitting the Prophet model  | Creating the Prophet model, fitting it on the data, and making future predictions.                                      |\n",
        "| Visualizing the results                 | Visualizing the historical data and the forecasted values using Matplotlib.                                            |\n"
      ],
      "metadata": {
        "id": "5fBsP7-bjOFJ"
      }
    },
    {
      "cell_type": "code",
      "source": [
        "# Step 1: Importing necessary libraries\n",
        "# Description: Importing the required libraries for time series forecasting using Prophet.\n",
        "\n",
        "import pandas as pd\n",
        "from fbprophet import Prophet\n",
        "\n",
        "# Step 2: Loading the data\n",
        "# Description: Loading the time series data into a pandas DataFrame.\n",
        "\n",
        "# Assuming you have a CSV file with two columns: 'ds' for the dates and 'y' for the target variable.\n",
        "# Replace 'data.csv' with the actual path to your dataset.\n",
        "data = pd.read_csv('data.csv')\n",
        "\n",
        "# Step 3: Preparing the data\n",
        "# Description: Preparing the data in the required format for Prophet.\n",
        "\n",
        "# Rename the columns to 'ds' and 'y' as required by Prophet.\n",
        "data = data.rename(columns={'Date': 'ds', 'Value': 'y'})\n",
        "\n",
        "# Step 4: Creating and fitting the Prophet model\n",
        "# Description: Creating the Prophet model, fitting it on the data, and making future predictions.\n",
        "\n",
        "# Creating the Prophet model with some basic settings.\n",
        "model = Prophet()\n",
        "\n",
        "# Fitting the model on the data.\n",
        "model.fit(data)\n",
        "\n",
        "# Making future predictions for the next 365 days.\n",
        "future = model.make_future_dataframe(periods=365)\n",
        "forecast = model.predict(future)\n",
        "\n",
        "# Step 5: Visualizing the results\n",
        "# Description: Visualizing the historical data and the forecasted values.\n",
        "\n",
        "import matplotlib.pyplot as plt\n",
        "\n",
        "# Plotting the historical data.\n",
        "plt.figure(figsize=(12, 6))\n",
        "plt.plot(data['ds'], data['y'], label='Actual', color='blue')\n",
        "\n",
        "# Plotting the forecasted values.\n",
        "plt.plot(forecast['ds'], forecast['yhat'], label='Forecast', color='red')\n",
        "\n",
        "# Adding uncertainty interval to the forecast plot (optional).\n",
        "plt.fill_between(forecast['ds'], forecast['yhat_lower'], forecast['yhat_upper'], color='pink', alpha=0.3)\n",
        "\n",
        "plt.xlabel('Date')\n",
        "plt.ylabel('Value')\n",
        "plt.title('Time Series Forecasting with Prophet')\n",
        "plt.legend()\n",
        "plt.show()\n"
      ],
      "metadata": {
        "id": "4llK0EaMherw"
      },
      "execution_count": null,
      "outputs": []
    }
  ]
}