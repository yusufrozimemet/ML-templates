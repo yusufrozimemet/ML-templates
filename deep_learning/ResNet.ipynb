{
  "nbformat": 4,
  "nbformat_minor": 0,
  "metadata": {
    "colab": {
      "provenance": [],
      "authorship_tag": "ABX9TyOythBpDydFGOmrEAqYkSkv",
      "include_colab_link": true
    },
    "kernelspec": {
      "name": "python3",
      "display_name": "Python 3"
    },
    "language_info": {
      "name": "python"
    }
  },
  "cells": [
    {
      "cell_type": "markdown",
      "metadata": {
        "id": "view-in-github",
        "colab_type": "text"
      },
      "source": [
        "<a href=\"https://colab.research.google.com/github/yoseforaz0990/ML-templates/blob/main/deep_learning/ResNet.ipynb\" target=\"_parent\"><img src=\"https://colab.research.google.com/assets/colab-badge.svg\" alt=\"Open In Colab\"/></a>"
      ]
    },
    {
      "cell_type": "markdown",
      "source": [
        "| Step Name                                | Description                                                                                                             |\n",
        "|------------------------------------------|-------------------------------------------------------------------------------------------------------------------------|\n",
        "| Importing necessary libraries           | Importing the required libraries for building the ResNet model.                                                        |\n",
        "| Defining the Residual Block             | Defining a single residual block with skip connection.                                                                  |\n",
        "| Creating the ResNet model               | Building the ResNet model using the defined residual blocks.                                                           |\n",
        "| Compiling the ResNet model              | Compiling the ResNet model with categorical cross-entropy loss and Adam optimizer.                                     |\n",
        "| Printing the ResNet model summary       | Displaying the summary of the ResNet model architecture.                                                               |\n"
      ],
      "metadata": {
        "id": "5fBsP7-bjOFJ"
      }
    },
    {
      "cell_type": "code",
      "source": [
        "# Step 1: Importing necessary libraries\n",
        "# Description: Importing the required libraries for building the ResNet model.\n",
        "\n",
        "import tensorflow as tf\n",
        "from tensorflow.keras.layers import Input, Conv2D, BatchNormalization, Activation, Add, AveragePooling2D, Flatten, Dense\n",
        "from tensorflow.keras.models import Model\n",
        "\n",
        "# Step 2: Defining the Residual Block\n",
        "# Description: Defining a single residual block with skip connection.\n",
        "\n",
        "def residual_block(x, filters, strides=(1, 1), activation=\"relu\"):\n",
        "    identity = x\n",
        "\n",
        "    x = Conv2D(filters, kernel_size=(3, 3), strides=strides, padding=\"same\")(x)\n",
        "    x = BatchNormalization()(x)\n",
        "    x = Activation(activation)(x)\n",
        "\n",
        "    x = Conv2D(filters, kernel_size=(3, 3), strides=(1, 1), padding=\"same\")(x)\n",
        "    x = BatchNormalization()(x)\n",
        "\n",
        "    if strides != (1, 1) or identity.shape[-1] != filters:\n",
        "        identity = Conv2D(filters, kernel_size=(1, 1), strides=strides, padding=\"same\")(identity)\n",
        "        identity = BatchNormalization()(identity)\n",
        "\n",
        "    x = Add()([x, identity])\n",
        "    x = Activation(activation)(x)\n",
        "    return x\n",
        "\n",
        "# Step 3: Creating the ResNet model\n",
        "# Description: Building the ResNet model using the defined residual blocks.\n",
        "\n",
        "def create_resnet(input_shape=(32, 32, 3), num_classes=10, num_filters=16, num_blocks_list=[2, 2, 2]):\n",
        "    inputs = Input(shape=input_shape)\n",
        "\n",
        "    x = Conv2D(num_filters, kernel_size=(3, 3), strides=(1, 1), padding=\"same\")(inputs)\n",
        "    x = BatchNormalization()(x)\n",
        "    x = Activation(\"relu\")(x)\n",
        "\n",
        "    for num_blocks in num_blocks_list:\n",
        "        for i in range(num_blocks):\n",
        "            if i == 0:\n",
        "                x = residual_block(x, num_filters, strides=(2, 2), activation=\"relu\")\n",
        "            else:\n",
        "                x = residual_block(x, num_filters, strides=(1, 1), activation=\"relu\")\n",
        "        num_filters *= 2\n",
        "\n",
        "    x = AveragePooling2D(pool_size=(4, 4))(x)\n",
        "    x = Flatten()(x)\n",
        "    x = Dense(num_classes, activation=\"softmax\")(x)\n",
        "\n",
        "    model = Model(inputs=inputs, outputs=x)\n",
        "    return model\n",
        "\n",
        "# Step 4: Compiling the ResNet model\n",
        "# Description: Compiling the ResNet model with categorical cross-entropy loss and Adam optimizer.\n",
        "\n",
        "model = create_resnet()\n",
        "model.compile(loss=\"categorical_crossentropy\", optimizer=\"adam\", metrics=[\"accuracy\"])\n",
        "\n",
        "# Step 5: Printing the ResNet model summary\n",
        "# Description: Displaying the summary of the ResNet model architecture.\n",
        "\n",
        "model.summary()\n"
      ],
      "metadata": {
        "id": "4llK0EaMherw"
      },
      "execution_count": null,
      "outputs": []
    }
  ]
}