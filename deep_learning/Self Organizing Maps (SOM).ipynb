{
  "nbformat": 4,
  "nbformat_minor": 0,
  "metadata": {
    "colab": {
      "provenance": [],
      "authorship_tag": "ABX9TyPrqKEf/Yc+daFLWqyqqQyK",
      "include_colab_link": true
    },
    "kernelspec": {
      "name": "python3",
      "display_name": "Python 3"
    },
    "language_info": {
      "name": "python"
    }
  },
  "cells": [
    {
      "cell_type": "markdown",
      "metadata": {
        "id": "view-in-github",
        "colab_type": "text"
      },
      "source": [
        "<a href=\"https://colab.research.google.com/github/yoseforaz0990/ML-templates/blob/main/deep_learning/Self%20Organizing%20Maps%20(SOM).ipynb\" target=\"_parent\"><img src=\"https://colab.research.google.com/assets/colab-badge.svg\" alt=\"Open In Colab\"/></a>"
      ]
    },
    {
      "cell_type": "markdown",
      "source": [
        "| Step Name                                          | Description                                                                                                                |\n",
        "|----------------------------------------------------|----------------------------------------------------------------------------------------------------------------------------|\n",
        "| Install MiniSom Package                            | Install the 'MiniSom' package, a Python library for implementing Self Organizing Maps (SOMs).                            |\n",
        "| Importing the libraries                            | Import the necessary libraries, including 'pandas', 'numpy', 'MiniSom', and functions from the 'pylab' module.            |\n",
        "| Importing the dataset                              | Read the credit card applications dataset using 'pandas'.                                                                 |\n",
        "| Extracting features and labels from the dataset    | Separate the features (X) and labels (y) from the dataset.                                                               |\n",
        "| Feature Scaling using MinMaxScaler                 | Scale the features (X) to a range of [0, 1] using MinMaxScaler to ensure equal contributions during SOM training.         |\n",
        "| Initializing and Training the Self Organizing Map  | Create a Self Organizing Map (SOM) with 10x10 nodes, input length of 15, and train it using random initialization.        |\n",
        "| Visualizing the results of SOM training            | Visualize the distance map of the SOM to observe data point grouping.                                                    |\n",
        "| Mapping customer data to their winning nodes       | Map each customer data point to the nearest winning node (neuron) in the trained SOM.                                    |\n",
        "| Concatenating the fraudsters' nodes                | Concatenate the nodes in the SOM corresponding to potential fraudsters to identify clusters of potential fraudulent customers. |\n",
        "| Inverse transforming fraudsters' data              | Inverse transform the concatenated data points of potential fraudsters to obtain customer information in the original scale. |\n",
        "| Printing the IDs of Fraudulent Customers           | Print the IDs (indexes) of potential fraudulent customers for further investigation.                                      |\n"
      ],
      "metadata": {
        "id": "5fBsP7-bjOFJ"
      }
    },
    {
      "cell_type": "code",
      "source": [
        "# Install MiniSom Package\n",
        "!pip install MiniSom\n",
        "\n",
        "# Importing the libraries\n",
        "import pandas as pd\n",
        "import numpy as np\n",
        "from minisom import MiniSom\n",
        "from pylab import bone, pcolor, colorbar, plot, show\n",
        "\n",
        "# Importing the dataset\n",
        "dataset = pd.read_csv('Credit_Card_Applications.csv')\n",
        "X = dataset.iloc[:, :-1].values\n",
        "y = dataset.iloc[:, -1].values\n",
        "\n",
        "# Feature Scaling\n",
        "from sklearn.preprocessing import MinMaxScaler\n",
        "sc = MinMaxScaler(feature_range=(0, 1))\n",
        "X = sc.fit_transform(X)\n",
        "\n",
        "# Training the SOM\n",
        "som = MiniSom(x=10, y=10, input_len=15, sigma=1.0, learning_rate=0.5)\n",
        "som.random_weights_init(X)\n",
        "som.train_random(data=X, num_iteration=100)\n",
        "\n",
        "# Visualizing the results\n",
        "bone()\n",
        "pcolor(som.distance_map().T)\n",
        "colorbar()\n",
        "\n",
        "markers = ['o', 's']\n",
        "colors = ['r', 'g']\n",
        "for i, x in enumerate(X):\n",
        "    w = som.winner(x)\n",
        "    plot(w[0] + 0.5,\n",
        "         w[1] + 0.5,\n",
        "         markers[y[i]],\n",
        "         markeredgecolor=colors[y[i]],\n",
        "         markerfacecolor='None',\n",
        "         markersize=10,\n",
        "         markeredgewidth=2)\n",
        "\n",
        "show()\n",
        "\n",
        "# Finding the frauds\n",
        "mappings = som.win_map(X)\n",
        "frauds = np.concatenate((mappings[(1, 1)], mappings[(4, 1)]), axis=0)\n",
        "frauds = sc.inverse_transform(frauds)\n",
        "\n",
        "# Printing the Fraudulent Clients\n",
        "print('Fraud Customer IDs:')\n",
        "for i in frauds[:, 0]:\n",
        "    print(int(i))\n"
      ],
      "metadata": {
        "id": "4llK0EaMherw"
      },
      "execution_count": null,
      "outputs": []
    }
  ]
}