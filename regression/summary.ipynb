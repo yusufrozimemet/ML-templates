{
  "nbformat": 4,
  "nbformat_minor": 0,
  "metadata": {
    "colab": {
      "provenance": [],
      "authorship_tag": "ABX9TyNEqlUG60h7ruFrzc5KLv+r",
      "include_colab_link": true
    },
    "kernelspec": {
      "name": "python3",
      "display_name": "Python 3"
    },
    "language_info": {
      "name": "python"
    }
  },
  "cells": [
    {
      "cell_type": "markdown",
      "metadata": {
        "id": "view-in-github",
        "colab_type": "text"
      },
      "source": [
        "<a href=\"https://colab.research.google.com/github/yoseforaz0990/ML-templates/blob/main/regression/summary.ipynb\" target=\"_parent\"><img src=\"https://colab.research.google.com/assets/colab-badge.svg\" alt=\"Open In Colab\"/></a>"
      ]
    },
    {
      "cell_type": "markdown",
      "source": [
        "| Regression Method        | Description                                                                                             | Use Case                                                     | Pros                                                                                   | Cons                                                                                                       |\n",
        "|--------------------------|---------------------------------------------------------------------------------------------------------|--------------------------------------------------------------|----------------------------------------------------------------------------------------|-----------------------------------------------------------------------------------------------------------|\n",
        "| Simple Linear Regression | Fits a linear model to the data with a single independent variable.                                     | Simple relationships between two variables.                | Easy to interpret and implement.                                                       | Limited to linear relationships and cannot capture complex patterns in the data.                         |\n",
        "| Multiple Linear Regression | Fits a linear model to the data with multiple independent variables.                                    | Multiple independent variables influence a dependent variable. | Handles multiple predictors and can capture more complex relationships than simple linear regression. | Sensitive to multicollinearity (high correlation between independent variables). Requires careful feature selection and preprocessing.                     |\n",
        "| Polynomial Regression   | Fits a linear model to the data with polynomial combinations of the independent variables.           | Non-linear relationships between variables.                 | Captures non-linear patterns and relationships in the data.                            | Prone to overfitting if the degree of the polynomial is too high.                                         |\n",
        "| Support Vector Regression (SVR) | Non-linear regression technique using Support Vector Machine (SVM) algorithm.                      | Complex relationships with non-linear patterns.               | Suitable for high-dimensional data and non-linear relationships. Robust to outliers.     | Requires careful selection of hyperparameters (e.g., kernel, regularization) and feature scaling. Can be computationally expensive with large datasets.   |\n",
        "| Random Forest Regression | Ensemble method combining multiple decision trees to make predictions.                               | Complex relationships and non-linear patterns.                 | Provides high accuracy, reduces overfitting, and handles a large number of features well. | Lack of interpretability compared to individual decision trees. May require tuning of hyperparameters to achieve optimal performance.                      |\n",
        "| Decision Tree Regression | Builds a tree-like model to make predictions based on the independent variables.                     | Simple and complex relationships.                             | Easy to understand and visualize. Robust to outliers and can handle non-linear relationships. | Prone to overfitting, especially with deep trees. Decision trees may not capture complex relationships well with limited data.                       |\n"
      ],
      "metadata": {
        "id": "AsrJUJFkt-_I"
      }
    }
  ]
}