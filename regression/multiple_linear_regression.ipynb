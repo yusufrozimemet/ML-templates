{
  "nbformat": 4,
  "nbformat_minor": 0,
  "metadata": {
    "colab": {
      "provenance": [],
      "authorship_tag": "ABX9TyNV+p2H+38a2HTCHhYMsoSa",
      "include_colab_link": true
    },
    "kernelspec": {
      "name": "python3",
      "display_name": "Python 3"
    },
    "language_info": {
      "name": "python"
    }
  },
  "cells": [
    {
      "cell_type": "markdown",
      "metadata": {
        "id": "view-in-github",
        "colab_type": "text"
      },
      "source": [
        "<a href=\"https://colab.research.google.com/github/yoseforaz0990/ML-templates/blob/main/regression/multiple_linear_regression.ipynb\" target=\"_parent\"><img src=\"https://colab.research.google.com/assets/colab-badge.svg\" alt=\"Open In Colab\"/></a>"
      ]
    },
    {
      "cell_type": "markdown",
      "source": [
        "| Step                                                      | Description                                                                                                          |\n",
        "|-----------------------------------------------------------|----------------------------------------------------------------------------------------------------------------------|\n",
        "| **Training the Multiple Linear Regression model on the Training set** | Build and train a Multiple Linear Regression model using the training set data.                                      |\n",
        "| **Predicting the Test set results**                           | Use the trained model to predict the dependent variable (y) values for the test set data (X_test).                 |\n",
        "| **Setting precision for printing**                            | Set the number of decimal places to 2 for printing floating-point numbers.                                           |\n",
        "| **Printing the predicted and actual values**                 | Concatenate the predicted values (y_pred) and the actual values (y_test) side by side and print the result.         |\n",
        "|                                                           |                                                                                                                      |\n",
        "| **Difference between Multiple Linear Regression and Simple Linear Regression** |                                                                                                              |\n",
        "|                                                           | **Multiple Linear Regression:** It involves predicting a dependent variable (y) based on two or more independent variables (X1, X2, X3, ...). For example, predicting a house price (y) based on factors like area, number of rooms, and location.  |\n",
        "|                                                           |                                                                                                                      |\n",
        "|                                                           | **Simple Linear Regression:** It involves predicting a dependent variable (y) based on a single independent variable (X). For example, predicting a person's salary (y) based on years of experience (X).                         |\n",
        "        |\n"
      ],
      "metadata": {
        "id": "AsrJUJFkt-_I"
      }
    },
    {
      "cell_type": "code",
      "execution_count": null,
      "metadata": {
        "id": "eUnEezaSt89s"
      },
      "outputs": [],
      "source": [
        "# Training the Simple Linear Regression model on the Training set\n",
        "from sklearn.linear_model import LinearRegression\n",
        "regressor = LinearRegression()\n",
        "regressor.fit(X_train, y_train)\n",
        "\n",
        "# Predicting the Test set results\n",
        "y_pred = regressor.predict(X_test)\n",
        "\n",
        "# Visualising the Training set results\n",
        "import matplotlib.pyplot as plt\n",
        "plt.scatter(X_train, y_train, color='red')\n",
        "plt.plot(X_train, regressor.predict(X_train), color='blue')\n",
        "plt.title('Salary vs Experience (Training set)')\n",
        "plt.xlabel('Years of Experience')\n",
        "plt.ylabel('Salary')\n",
        "plt.show()\n",
        "\n",
        "# Visualising the Test set results\n",
        "plt.scatter(X_test, y_test, color='red')\n",
        "plt.plot(X_train, regressor.predict(X_train), color='blue')\n",
        "plt.title('Salary vs Experience (Test set)')\n",
        "plt.xlabel('Years of Experience')\n",
        "plt.ylabel('Salary')\n",
        "plt.show()\n"
      ]
    }
  ]
}