{
  "nbformat": 4,
  "nbformat_minor": 0,
  "metadata": {
    "colab": {
      "provenance": [],
      "authorship_tag": "ABX9TyPUyhbcSyOMrBjQY3H6e4pe",
      "include_colab_link": true
    },
    "kernelspec": {
      "name": "python3",
      "display_name": "Python 3"
    },
    "language_info": {
      "name": "python"
    }
  },
  "cells": [
    {
      "cell_type": "markdown",
      "metadata": {
        "id": "view-in-github",
        "colab_type": "text"
      },
      "source": [
        "<a href=\"https://colab.research.google.com/github/yoseforaz0990/ML-templates/blob/main/regression/support_vector_regression.ipynb\" target=\"_parent\"><img src=\"https://colab.research.google.com/assets/colab-badge.svg\" alt=\"Open In Colab\"/></a>"
      ]
    },
    {
      "cell_type": "markdown",
      "source": [
        "| Step                                                      | Description                                                                                                          |\n",
        "|-----------------------------------------------------------|----------------------------------------------------------------------------------------------------------------------|\n",
        "| **Training the SVR model on the whole dataset**           | Build a Support Vector Regression (SVR) model using the entire dataset.                                              |\n",
        "|                                                           | Specify the kernel for the SVR model; here, we use the radial basis function (RBF) kernel, which allows for non-linear regression.  |\n",
        "|                                                           | Train the SVR model on the dataset to learn the relationships between the independent variable (Position level `X`) and the dependent variable (Salary `y`).   |\n",
        "| **Predicting a new result**                               | Predict the salary for a new position level (e.g., `6.5`) using the trained SVR model.                            |\n",
        "|                                                           | Transform the new position level into the scaled format consistent with the feature scaling used during training.  |\n",
        "|                                                           | Use the `predict()` method to get the predicted salary. Then, inverse transform the predicted salary to convert it back to the original scale. |\n",
        "| **Visualising the SVR results**                           | Create a scatter plot to visualize the actual salary (`y`) against the position level (`X`) in red data points.    |\n",
        "|                                                           | Plot the SVR predictions (salary) in blue based on the transformed position level `X` to visualize how well the SVR model fits the data. |\n",
        "|                                                           | The blue curve represents the SVR predictions, capturing the non-linear relationship between position level and salary. |\n",
        "|                                                           | This visualization helps assess the performance of the SVR model and how well it captures the underlying patterns in the data. |\n",
        "| **Difference between Polynomial Regression and SVR**      |                                                                                                                      |\n",
        "|                                                           | **Polynomial Regression:** It involves fitting a linear model to the transformed feature matrix `X_poly`, which includes polynomial combinations of the original features. This allows the model to capture nonlinear relationships between the dependent variable and the independent variables. Suitable for cases where data exhibits a curvilinear pattern.   |\n",
        "|                                                           |                                                                                                                      |\n",
        "|                                                           | **Support Vector Regression (SVR):** It is a non-linear regression technique that uses the Support Vector Machine (SVM) algorithm to model complex relationships between the dependent variable and the independent variables. It uses a kernel trick (e.g., RBF kernel) to map the data into a higher-dimensional space, allowing for non-linear modeling. SVR is suitable for cases where the relationship between variables is complex and cannot be captured well by linear models.  |"
      ],
      "metadata": {
        "id": "AsrJUJFkt-_I"
      }
    },
    {
      "cell_type": "code",
      "execution_count": null,
      "metadata": {
        "id": "eUnEezaSt89s"
      },
      "outputs": [],
      "source": [
        "# Training the SVR model on the whole dataset\n",
        "from sklearn.svm import SVR\n",
        "regressor = SVR(kernel='rbf')\n",
        "regressor.fit(X, y)\n",
        "\n",
        "# Predicting a new result\n",
        "new_position_level = 6.5\n",
        "predicted_salary = sc_y.inverse_transform(regressor.predict(sc_X.transform([[new_position_level]])).reshape(-1,1))\n",
        "\n",
        "# Visualising the SVR results\n",
        "import matplotlib.pyplot as plt\n",
        "plt.scatter(sc_X.inverse_transform(X), sc_y.inverse_transform(y), color='red')\n",
        "plt.plot(sc_X.inverse_transform(X), sc_y.inverse_transform(regressor.predict(X).reshape(-1,1)), color='blue')\n",
        "plt.title('Truth or Bluff (SVR)')\n",
        "plt.xlabel('Position level')\n",
        "plt.ylabel('Salary')\n",
        "plt.show()\n",
        "\n"
      ]
    }
  ]
}