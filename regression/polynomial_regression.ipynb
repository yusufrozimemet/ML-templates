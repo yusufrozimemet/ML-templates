{
  "nbformat": 4,
  "nbformat_minor": 0,
  "metadata": {
    "colab": {
      "provenance": [],
      "authorship_tag": "ABX9TyPJ7MJZnNN1JrzooP3Bq0yY",
      "include_colab_link": true
    },
    "kernelspec": {
      "name": "python3",
      "display_name": "Python 3"
    },
    "language_info": {
      "name": "python"
    }
  },
  "cells": [
    {
      "cell_type": "markdown",
      "metadata": {
        "id": "view-in-github",
        "colab_type": "text"
      },
      "source": [
        "<a href=\"https://colab.research.google.com/github/yoseforaz0990/ML-templates/blob/main/regression/polynomial_regression.ipynb\" target=\"_parent\"><img src=\"https://colab.research.google.com/assets/colab-badge.svg\" alt=\"Open In Colab\"/></a>"
      ]
    },
    {
      "cell_type": "markdown",
      "source": [
        "| Step                                                      | Description                                                                                                          |\n",
        "|-----------------------------------------------------------|----------------------------------------------------------------------------------------------------------------------|\n",
        "| **Training the Polynomial Regression model on the whole dataset** | Transform the original feature `X` into a new feature matrix `X_poly` by adding polynomial combinations of the features up to the specified degree (degree=4 in this example). |\n",
        "|                                                           | Fit a linear model (LinearRegression) to the transformed feature matrix `X_poly` and the target variable `y` (Salary).   |\n",
        "| **Visualising the Polynomial Regression results**            | Create a scatter plot to visualize the actual salary (`y`) against the position level (`X`) in red data points, and plot the Polynomial Regression curve (blue line) representing the model's predictions based on the transformed feature matrix `X_poly`. This helps visualize how well the model fits the data with the added polynomial features. |\n",
        "| **Predicting a new result with Polynomial Regression**      | Predict the salary for a new position level (e.g., `6.5`) by transforming the new position level into its polynomial features using `PolynomialFeatures` and then using the trained `lin_reg_2` model to make the prediction. Print the predicted salary for the given position level. |\n",
        "|                                                           |                                                                                                                      |\n",
        "| **Difference between Polynomial Regression, Multiple Linear Regression, and Simple Linear Regression**              |                                                                                                                      |\n",
        "|                                                           | **Polynomial Regression:** It involves fitting a linear model to the transformed feature matrix `X_poly`, which includes polynomial combinations of the original features. This allows the model to capture nonlinear relationships between the dependent variable and the independent variables. Suitable for cases where data exhibits a curvilinear pattern.   |\n",
        "|                                                           |                                                                                                                      |\n",
        "|                                                           | **Multiple Linear Regression:** It involves predicting a dependent variable (y) based on two or more independent variables (X1, X2, X3, ...). For example, predicting a house price (y) based on factors like area, number of rooms, and location.  |\n",
        "|                                                           |                                                                                                                      |\n",
        "|                                                           | **Simple Linear Regression:** It involves predicting a dependent variable (y) based on a single independent variable (X). For example, predicting a person's salary (y) based on years of experience (X).                         |\n"
      ],
      "metadata": {
        "id": "AsrJUJFkt-_I"
      }
    },
    {
      "cell_type": "code",
      "execution_count": null,
      "metadata": {
        "id": "eUnEezaSt89s"
      },
      "outputs": [],
      "source": [
        "# Training the Polynomial Regression model on the whole dataset\n",
        "from sklearn.preprocessing import PolynomialFeatures\n",
        "poly_reg = PolynomialFeatures(degree=4)\n",
        "X_poly = poly_reg.fit_transform(X)\n",
        "lin_reg_2 = LinearRegression()\n",
        "lin_reg_2.fit(X_poly, y)\n",
        "\n",
        "# Visualising the Polynomial Regression results\n",
        "import matplotlib.pyplot as plt\n",
        "plt.scatter(X, y, color='red')\n",
        "plt.plot(X, lin_reg_2.predict(poly_reg.fit_transform(X)), color='blue')\n",
        "plt.title('Truth or Bluff (Polynomial Regression)')\n",
        "plt.xlabel('Position level')\n",
        "plt.ylabel('Salary')\n",
        "plt.show()\n",
        "\n",
        "# Predicting a new result with Polynomial Regression\n",
        "new_position_level = 6.5\n",
        "predicted_salary = lin_reg_2.predict(poly_reg.fit_transform([[new_position_level]]))\n",
        "print(\"Predicted Salary for Position Level\", new_position_level, \"is:\", predicted_salary[0])\n",
        "\n"
      ]
    }
  ]
}