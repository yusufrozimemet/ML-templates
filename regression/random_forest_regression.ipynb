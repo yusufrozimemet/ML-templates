{
  "nbformat": 4,
  "nbformat_minor": 0,
  "metadata": {
    "colab": {
      "provenance": [],
      "authorship_tag": "ABX9TyMP1Jtb1vNaBj8Bp+75ZDbh",
      "include_colab_link": true
    },
    "kernelspec": {
      "name": "python3",
      "display_name": "Python 3"
    },
    "language_info": {
      "name": "python"
    }
  },
  "cells": [
    {
      "cell_type": "markdown",
      "metadata": {
        "id": "view-in-github",
        "colab_type": "text"
      },
      "source": [
        "<a href=\"https://colab.research.google.com/github/yoseforaz0990/ML-templates/blob/main/regression/random_forest_regression.ipynb\" target=\"_parent\"><img src=\"https://colab.research.google.com/assets/colab-badge.svg\" alt=\"Open In Colab\"/></a>"
      ]
    },
    {
      "cell_type": "markdown",
      "source": [
        "| Step                                                      | Description                                                                                                          |\n",
        "|-----------------------------------------------------------|----------------------------------------------------------------------------------------------------------------------|\n",
        "| **Training the Random Forest Regression model on the whole dataset** | Build a Random Forest Regression model using the entire dataset.                                                     |\n",
        "|                                                           | The `RandomForestRegressor` class from scikit-learn is used to create the model.                                      |\n",
        "|                                                           | The `n_estimators` parameter is set to `10`, indicating the number of decision trees that will be used to construct the random forest. |\n",
        "|                                                           | The `random_state` parameter is set to `0` for reproducibility in model training.                                     |\n",
        "|                                                           | Train the Random Forest Regression model on the dataset to learn the relationships between the independent variable (Position level `X`) and the dependent variable (Salary `y`).   |\n",
        "| **Predicting a new result**                               | Predict the salary for a new position level (e.g., `6.5`) using the trained Random Forest Regression model.       |\n",
        "|                                                           | The `predict()` method is used, passing the new position level as input to get the predicted salary.                   |\n",
        "| **Visualising the Random Forest Regression results**      | Create a range of position levels (`X_grid`) from the minimum to the maximum value of the original position levels `X`. |\n",
        "|                                                           | The `RandomForestRegressor` model is then used to predict salaries for the position levels in `X_grid`.                |\n",
        "|                                                           | Create a scatter plot to visualize the actual salary (`y`) against the position level (`X`) in red data points.        |\n",
        "|                                                           | Plot the Random Forest Regression predictions (salary) based on the `X_grid` in blue to visualize how well the model fits the data. |\n",
        "|                                                           | The blue curve represents the Random Forest Regression predictions, capturing the relationship between position level and salary. |\n",
        "|                                                           | This visualization helps assess the performance of the Random Forest Regression model and how well it captures the underlying patterns in the data. |\n",
        "| **Difference between Decision Tree Regression and Random Forest Regression** |                                                                                                                  |\n",
        "|                                                           | **Decision Tree Regression:** It involves building a tree-like model to make predictions based on the independent variables. It splits the data into segments to create homogenous groups based on the dependent variable. Suitable for both linear and non-linear relationships between variables. |\n",
        "|                                                           |                                                                                                                      |\n",
        "|                                                           | **Random Forest Regression:** It is an ensemble method that combines multiple decision trees to make predictions. Each decision tree in the random forest is trained on a random subset of the data and a random subset of features. It aggregates the predictions from all trees to produce the final prediction. Random Forest Regression reduces overfitting, improves generalization, and provides better predictive performance compared to a single Decision Tree Regression. It is suitable for complex problems and non-linear relationships between variables.   |\n"
      ],
      "metadata": {
        "id": "AsrJUJFkt-_I"
      }
    },
    {
      "cell_type": "code",
      "execution_count": null,
      "metadata": {
        "id": "eUnEezaSt89s"
      },
      "outputs": [],
      "source": [
        "# Training the Random Forest Regression model on the whole dataset\n",
        "from sklearn.ensemble import RandomForestRegressor\n",
        "regressor = RandomForestRegressor(n_estimators=10, random_state=0)\n",
        "regressor.fit(X, y)\n",
        "\n",
        "# Predicting a new result\n",
        "new_position_level = 6.5\n",
        "predicted_salary = regressor.predict([[new_position_level]])\n",
        "\n",
        "# Visualising the Random Forest Regression results\n",
        "import numpy as np\n",
        "X_grid = np.arange(min(X), max(X), 0.01)\n",
        "X_grid = X_grid.reshape((len(X_grid), 1))\n",
        "\n",
        "import matplotlib.pyplot as plt\n",
        "plt.scatter(X, y, color='red')\n",
        "plt.plot(X_grid, regressor.predict(X_grid), color='blue')\n",
        "plt.title('Truth or Bluff (Random Forest Regression)')\n",
        "plt.xlabel('Position level')\n",
        "plt.ylabel('Salary')\n",
        "plt.show()\n",
        "\n",
        "\n"
      ]
    }
  ]
}