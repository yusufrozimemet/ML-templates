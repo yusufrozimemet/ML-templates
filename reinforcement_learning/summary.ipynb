{
  "nbformat": 4,
  "nbformat_minor": 0,
  "metadata": {
    "colab": {
      "provenance": [],
      "authorship_tag": "ABX9TyOlhr96tIHZsuVuIJFKXfFJ",
      "include_colab_link": true
    },
    "kernelspec": {
      "name": "python3",
      "display_name": "Python 3"
    },
    "language_info": {
      "name": "python"
    }
  },
  "cells": [
    {
      "cell_type": "markdown",
      "metadata": {
        "id": "view-in-github",
        "colab_type": "text"
      },
      "source": [
        "<a href=\"https://colab.research.google.com/github/yoseforaz0990/ML-templates/blob/main/reinforcement_learning/summary.ipynb\" target=\"_parent\"><img src=\"https://colab.research.google.com/assets/colab-badge.svg\" alt=\"Open In Colab\"/></a>"
      ]
    },
    {
      "cell_type": "markdown",
      "source": [
        "| Method                  | Description                                                                                                                        | Use Case                                         | Pros                                                      | Cons                                                           |\n",
        "|-------------------------|------------------------------------------------------------------------------------------------------------------------------------|---------------------------------------------------|-----------------------------------------------------------|----------------------------------------------------------------|\n",
        "| Upper Confidence Bound  | UCB is a bandit-based algorithm that balances exploration and exploitation to maximize the expected cumulative reward.             | Online advertisement optimization                 | Efficiently handles exploration-exploitation tradeoff    | May converge to suboptimal solutions in non-stationary environments |\n",
        "| Thompson Sampling       | Thompson Sampling is a probabilistic algorithm that selects actions based on their uncertainty (expressed as a Beta distribution).   | Multi-armed bandit problems, recommendation systems | Can adapt to changing reward distributions                | Can be computationally expensive in large-scale problems          |\n"
      ],
      "metadata": {
        "id": "5fBsP7-bjOFJ"
      }
    }
  ]
}