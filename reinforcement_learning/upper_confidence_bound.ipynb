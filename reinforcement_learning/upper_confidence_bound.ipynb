{
  "nbformat": 4,
  "nbformat_minor": 0,
  "metadata": {
    "colab": {
      "provenance": [],
      "authorship_tag": "ABX9TyMFw9IUUIh549NjJJZ636QY",
      "include_colab_link": true
    },
    "kernelspec": {
      "name": "python3",
      "display_name": "Python 3"
    },
    "language_info": {
      "name": "python"
    }
  },
  "cells": [
    {
      "cell_type": "markdown",
      "metadata": {
        "id": "view-in-github",
        "colab_type": "text"
      },
      "source": [
        "<a href=\"https://colab.research.google.com/github/yoseforaz0990/ML-templates/blob/main/reinforcement_learning/upper_confidence_bound.ipynb\" target=\"_parent\"><img src=\"https://colab.research.google.com/assets/colab-badge.svg\" alt=\"Open In Colab\"/></a>"
      ]
    },
    {
      "cell_type": "markdown",
      "source": [
        "| Step                                           | Description                                                                                                                                         |\n",
        "|------------------------------------------------|-----------------------------------------------------------------------------------------------------------------------------------------------------|\n",
        "| Importing the libraries                       | Import the required libraries, including `math`, `numpy`, and `matplotlib.pyplot`. These libraries will be used for mathematical calculations, data manipulation, and visualization. |\n",
        "| Importing the dataset                         | Import the dataset containing the rewards for each ad. The dataset will be used to simulate the multi-armed bandit problem, where each ad corresponds to an arm of the bandit. |\n",
        "| Implementing UCB                              | Initialize variables and lists to store the results of the UCB algorithm. Set the number of rounds (N) and the number of ads (d). Then, iterate through each round (n) to select the ad with the highest UCB value based on the previous results. Update the selection counts, reward sums, and total reward. |\n",
        "| Visualising the results                       | Plot the histogram of ad selections to visualize the number of times each ad was selected during the N rounds of the experiment. This histogram provides insights into the effectiveness of the UCB algorithm in selecting the best-performing ad. |\n"
      ],
      "metadata": {
        "id": "5fBsP7-bjOFJ"
      }
    },
    {
      "cell_type": "code",
      "source": [
        "# Importing the libraries\n",
        "\n",
        "# Importing the dataset (dataset is not provided in the code, assuming it's already loaded)\n",
        "\n",
        "# UCB Algorithm\n",
        "N = 10000\n",
        "d = 10\n",
        "ads_selected = []\n",
        "numbers_of_selections = [0] * d\n",
        "sums_of_rewards = [0] * d\n",
        "total_reward = 0\n",
        "\n",
        "for n in range(0, N):\n",
        "    ad = 0\n",
        "    max_upper_bound = 0\n",
        "    for i in range(0, d):\n",
        "        if numbers_of_selections[i] > 0:\n",
        "            average_reward = sums_of_rewards[i] / numbers_of_selections[i]\n",
        "            delta_i = math.sqrt(3/2 * math.log(n + 1) / numbers_of_selections[i])\n",
        "            upper_bound = average_reward + delta_i\n",
        "        else:\n",
        "            upper_bound = 1e400\n",
        "        if upper_bound > max_upper_bound:\n",
        "            max_upper_bound = upper_bound\n",
        "            ad = i\n",
        "\n",
        "    ads_selected.append(ad)\n",
        "    numbers_of_selections[ad] += 1\n",
        "    reward = dataset.values[n, ad]  # Assuming dataset is a 2D array with rewards\n",
        "    sums_of_rewards[ad] += reward\n",
        "    total_reward += reward\n",
        "\n",
        "# Visualising the results\n",
        "plt.hist(ads_selected)\n",
        "plt.title('Histogram of ads selections')\n",
        "plt.xlabel('Ads')\n",
        "plt.ylabel('Number of times each ad was selected')\n",
        "plt.show()\n"
      ],
      "metadata": {
        "id": "4llK0EaMherw"
      },
      "execution_count": null,
      "outputs": []
    }
  ]
}