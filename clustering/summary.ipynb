{
  "nbformat": 4,
  "nbformat_minor": 0,
  "metadata": {
    "colab": {
      "provenance": [],
      "authorship_tag": "ABX9TyM7aTo8HyLBT1OzfH7tkY6m",
      "include_colab_link": true
    },
    "kernelspec": {
      "name": "python3",
      "display_name": "Python 3"
    },
    "language_info": {
      "name": "python"
    }
  },
  "cells": [
    {
      "cell_type": "markdown",
      "metadata": {
        "id": "view-in-github",
        "colab_type": "text"
      },
      "source": [
        "<a href=\"https://colab.research.google.com/github/yoseforaz0990/ML-templates/blob/main/clustering/summary.ipynb\" target=\"_parent\"><img src=\"https://colab.research.google.com/assets/colab-badge.svg\" alt=\"Open In Colab\"/></a>"
      ]
    },
    {
      "cell_type": "markdown",
      "source": [
        "| Model                    | Description                                                     | Use Case                                        | Pros                                       | Cons                                    |\n",
        "|--------------------------|-----------------------------------------------------------------|-------------------------------------------------|--------------------------------------------|----------------------------------------|\n",
        "| Hierarchical Clustering  | Hierarchical Clustering is a method that creates a tree-like structure of nested clusters, where each data point starts in its own cluster, and clusters are merged based on their similarity until a stopping criterion is reached. | - Identifying natural hierarchical structures in the data<br>- When the number of clusters is not known in advance<br>- When the data may have noise or outliers         | - Captures hierarchical relationships among data points<br>- No need to specify the number of clusters beforehand | - Computationally intensive for large datasets<br>- May not work well with high-dimensional data or large number of data points |\n",
        "| K-Means Clustering       | K-Means Clustering is a method that partitions the data into 'k' non-overlapping clusters, where each data point belongs to the cluster with the nearest mean. It aims to minimize the within-cluster sum of squares. | - Clustering data into a pre-defined number of clusters<br>- When the data is well-separated and evenly distributed | - Simple and computationally efficient<br>- Works well with large datasets | - Requires specifying the number of clusters 'k' beforehand<br>- Sensitive to the initial placement of centroids<br>- Struggles with non-linearly separable data or clusters of different sizes |\n"
      ],
      "metadata": {
        "id": "5fBsP7-bjOFJ"
      }
    }
  ]
}